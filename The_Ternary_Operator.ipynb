{
  "nbformat": 4,
  "nbformat_minor": 0,
  "metadata": {
    "colab": {
      "provenance": [],
      "authorship_tag": "ABX9TyPO0CwU5S/MaYHid35oAr1D",
      "include_colab_link": true
    },
    "kernelspec": {
      "name": "python3",
      "display_name": "Python 3"
    },
    "language_info": {
      "name": "python"
    }
  },
  "cells": [
    {
      "cell_type": "markdown",
      "metadata": {
        "id": "view-in-github",
        "colab_type": "text"
      },
      "source": [
        "<a href=\"https://colab.research.google.com/github/jaime-villela/python-tips/blob/main/The_Ternary_Operator.ipynb\" target=\"_parent\"><img src=\"https://colab.research.google.com/assets/colab-badge.svg\" alt=\"Open In Colab\"/></a>"
      ]
    },
    {
      "cell_type": "markdown",
      "source": [
        "# The Normal if-then-else Construct\n",
        "In programming you will encounter a case where you need to decide between one of two outcomes.  This is normally implemented as using the `if-then-else` construct.  For example, let's say you want to create a function to return the larger of two numbers.  You could write as in the next block."
      ],
      "metadata": {
        "id": "g6bhsQjFfBjM"
      }
    },
    {
      "cell_type": "code",
      "source": [
        "def old_max(a, b):\n",
        "    if a > b:\n",
        "        return a\n",
        "    else:\n",
        "        return b"
      ],
      "metadata": {
        "id": "7MAb7--vfhI6"
      },
      "execution_count": 2,
      "outputs": []
    },
    {
      "cell_type": "code",
      "source": [
        "old_max(5, 7)"
      ],
      "metadata": {
        "colab": {
          "base_uri": "https://localhost:8080/"
        },
        "id": "smcKk6um95Os",
        "outputId": "d443242a-b086-47da-8b34-fbfe0625ba1a"
      },
      "execution_count": 3,
      "outputs": [
        {
          "output_type": "execute_result",
          "data": {
            "text/plain": [
              "7"
            ]
          },
          "metadata": {},
          "execution_count": 3
        }
      ]
    },
    {
      "cell_type": "markdown",
      "source": [
        "# Using The Ternary Operator\n",
        "The code in the block above works just fine but what if there a way to replace lines 2 through 5 with one single line of code?  Well, there is!  Python (and most other languages) offer the use of a ternary construct whose syntax is `<result if True> if <some condition> else <result if False>`.\n",
        "\n",
        "In keeping with example of a function that returns the maximum of two numbers, we can re-write the previous function like this:"
      ],
      "metadata": {
        "id": "w0ireep-fv4S"
      }
    },
    {
      "cell_type": "code",
      "source": [
        "def new_max(a, b):\n",
        "    return a if a > b else b\n",
        "\n",
        "new_max(5, 7)"
      ],
      "metadata": {
        "colab": {
          "base_uri": "https://localhost:8080/"
        },
        "id": "oNNdx-apgaqP",
        "outputId": "f2686162-7606-4c10-843f-c300de9ab313"
      },
      "execution_count": null,
      "outputs": [
        {
          "output_type": "execute_result",
          "data": {
            "text/plain": [
              "7"
            ]
          },
          "metadata": {},
          "execution_count": 2
        }
      ]
    },
    {
      "cell_type": "markdown",
      "source": [
        "Notice how much more succint the `new_max()` function is and it returns the exact same result as `old_max()`.  If you wanted to write the function in a way where it returned either True or False you could write it as below."
      ],
      "metadata": {
        "id": "Vhgt1niPgixi"
      }
    },
    {
      "cell_type": "code",
      "source": [
        "def is_a_gt_b(a, b):\n",
        "    return True if a > b else False\n",
        "\n",
        "print(is_a_gt_b(5, 7))"
      ],
      "metadata": {
        "colab": {
          "base_uri": "https://localhost:8080/"
        },
        "id": "P-N5dj2ghI8t",
        "outputId": "06ececf1-5f01-4ee3-804b-e7edb4fec217"
      },
      "execution_count": null,
      "outputs": [
        {
          "output_type": "stream",
          "name": "stdout",
          "text": [
            "False\n"
          ]
        }
      ]
    },
    {
      "cell_type": "markdown",
      "source": [
        "# Conclusion\n",
        "The ternary operator is a very handy way of reducing the amount of code while providing an `if-then-else` result."
      ],
      "metadata": {
        "id": "yVU8iPiDhbL7"
      }
    }
  ]
}