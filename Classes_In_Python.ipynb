{
  "nbformat": 4,
  "nbformat_minor": 0,
  "metadata": {
    "colab": {
      "provenance": [],
      "authorship_tag": "ABX9TyO7wTFcgTZMjIZjwE6U3EsZ",
      "include_colab_link": true
    },
    "kernelspec": {
      "name": "python3",
      "display_name": "Python 3"
    },
    "language_info": {
      "name": "python"
    }
  },
  "cells": [
    {
      "cell_type": "markdown",
      "metadata": {
        "id": "view-in-github",
        "colab_type": "text"
      },
      "source": [
        "<a href=\"https://colab.research.google.com/github/jaime-villela/python-tips/blob/main/Classes_In_Python.ipynb\" target=\"_parent\"><img src=\"https://colab.research.google.com/assets/colab-badge.svg\" alt=\"Open In Colab\"/></a>"
      ]
    },
    {
      "cell_type": "markdown",
      "source": [
        "# Using Classes In Python\n",
        "For this article, I'm not going to give an example of how I use classes in Python to make my code more readable.  I won't go into all the aspects of Object Oriented Programming (OOP) becase that's a much broader topic.  Rather, I want to show the usefulness of two principles of OOP, namely *Encapsulation* and *Abstraction*.  I will attempt to demonstrate these two principles by making improvements on the code I wrote to implement the Nelder-Mead method in this [notebook I previously created.](https://colab.research.google.com/drive/1nIcvS_0CyuGm3VqkauLeYZRJQJF9ZaVW?usp=sharing)\n",
        "<br>\n",
        "<br>\n",
        "**Encapsulation** refers to the idea that only some of the data you are working with needs to be exposed to the world.  For example, the algorithm I implemented relies on a matrix of vertices which make up a triangle.  As algorithm progresses, the shape of the triangle is modified.  In the process of transforming the shape of the triangle, new points need to be calculated for reflection, contraction, expansion, etc.  Those intermediate points don't need to be made pulic as they are only relevant momentarily.  Therefore, it makes sense to keep those bits of data encapsulated within an object.\n",
        "<br>\n",
        "<br>\n",
        "**Abstraction** refers to the idea that all code needs to be made public.  In keeping with the example of the shape-shifting triangle, the points for reflection, contraction, etc, need to be calculated but those calculations don't need to be made known to the world.  A convenient side-effect of this principle is that you can wrap several statements within a function and then give that function a name that describes what is going on \"behind the scenes\".\n"
      ],
      "metadata": {
        "id": "uQzEp5nnYG-Y"
      }
    },
    {
      "cell_type": "markdown",
      "source": [
        "## First, the pseudocode\n",
        "We'll start by showing the Nelder-Mead algorithm written here in pseudocode."
      ],
      "metadata": {
        "id": "fwAwL3vm0avd"
      }
    },
    {
      "cell_type": "markdown",
      "source": [
        "```\n",
        "IF f (R) < f (G) THEN \n",
        "    Perform Case (i) {either reflect or extend}\n",
        "ELSE \n",
        "    Perform Case (ii) {either contract or shrink}\n",
        "\n",
        "BEGIN {Case (i).} # reflect or extend\n",
        "    IF f (B) < f (R) THEN \n",
        "        replace W with R \n",
        "    ELSE\n",
        "        Compute E and f (E) \n",
        "        IF f (E) < f (B) THEN \n",
        "            replace W with E \n",
        "        ELSE \n",
        "            replace W with R\n",
        "        ENDIF \n",
        "    ENDIF \n",
        "END {Case (i).}\n",
        "\n",
        "\n",
        "BEGIN {Case (ii).} # contract or shrink\n",
        "    IF f (R) < f (W) THEN\n",
        "        replace W with R\n",
        "     \n",
        "    Compute C = (W + M)/2 or C = (M + R)/2 and f (C)\n",
        "    IF f (C) < f (W) THEN\n",
        "        replace W with C\n",
        "    ELSE\n",
        "        Compute S and f (S)\n",
        "        replace W with S\n",
        "        replace G with M\n",
        "    ENDIF\n",
        "END {Case (ii).}\n",
        "```"
      ],
      "metadata": {
        "id": "OEfcTyWKGNfU"
      }
    },
    {
      "cell_type": "markdown",
      "source": [
        "If we compare the pseudocode to the actual code (shown below) you see that the actual code has a lot more steps in it.  That's because each step implies some calculations that have to take place.  Notice also that there are lots of arrays being indexed.  Even though the names of the rows and columns are visible, it can become hard to follow what's going on.  I also try to always use long variable names that express what the variable holds but imagine if I had decided to only use single letters or acronmys instead.  \n",
        "<br>\n",
        "Wouldn't it be nice if the actual code read as simply as the pseudocode?  That is, after all, why pseudocode exists, because it's easier to understand complete sentences than language syntax."
      ],
      "metadata": {
        "id": "jDm27n7tavl3"
      }
    },
    {
      "cell_type": "markdown",
      "source": [
        "## Now, The Actual Code"
      ],
      "metadata": {
        "id": "Tzg7wpkdP3nh"
      }
    },
    {
      "cell_type": "code",
      "source": [
        "while(did_points_converge(vertices['z']) == False):\n",
        "    Midpoint = (vertices.loc['Best'] + vertices.loc['Good']) / 2\n",
        "    Reflection = 2 * Midpoint - vertices.loc['Worst']\n",
        "    Reflection['z'] = func(Reflection['x'], Reflection['y'])\n",
        "\n",
        "    if Reflection['z'] < vertices.loc['Good']['z']:\n",
        "        print('Case 1 >>>>')\n",
        "        if vertices.loc['Best']['z'] < Reflection['z']:\n",
        "            print('Replace W with R')\n",
        "            vertices.loc['Worst'] = Reflection\n",
        "        else:\n",
        "            Extension = 2 * Reflection - Midpoint\n",
        "            Extension['z'] = func(Extension['x'], Extension['y'])\n",
        "            \n",
        "            if Extension['z'] < vertices.loc['Best']['z']:\n",
        "                print('Replace W with E')\n",
        "                vertices.loc['Worst'] = Extension\n",
        "            else:\n",
        "                print('Replace W with R')\n",
        "                vertices.loc['Worst'] = Reflection\n",
        "    else:\n",
        "        print('Case 2 >>>>')\n",
        "        if Reflection['z'] < vertices.loc['Worst']['z']:\n",
        "            print('Replace W with R')\n",
        "            vertices.loc['Worst'] = Reflection\n",
        "        else:\n",
        "            C1 = (vertices.loc['Worst'] + Midpoint) / 2\n",
        "            C2 = (Midpoint + Reflection) / 2\n",
        "            C1['z'] = func(C1['x'], C1['y'])\n",
        "            C2['z'] = func(C2['x'], C2['y'])\n",
        "            Contraction = C1 if C1['z'] < C2['z'] else C2\n",
        "\n",
        "            if Contraction['z'] < vertices.loc['Worst']['z']:\n",
        "                print('Replace W with C')\n",
        "                vertices.loc['Worst'] = Contraction\n",
        "            else:\n",
        "                Shrinkpoint = (vertices.loc['Best'] + vertices.loc['Worst']) / 2\n",
        "                Shrinkpoint['z'] = func(Shrinkpoint['x'], Shrinkpoint['y'])\n",
        "                print('Replace W with S')\n",
        "                print('Replace G with M')\n",
        "                vertices.loc['Worst'] = Shrinkpoint\n",
        "                vertices.loc['Good'] = Midpoint\n",
        "\n",
        "    vertices = sort_and_rename_vertices(vertices)\n",
        "    print(vertices)"
      ],
      "metadata": {
        "id": "zAX6u5Irjs8H"
      },
      "execution_count": null,
      "outputs": []
    },
    {
      "cell_type": "markdown",
      "source": [
        "# Classes To The Rescue\n",
        "Here's where a class can help make our code simpler to read (and, thus, maintain).  If we create a class for our simplex triangle, the details of each step in the algorithm no longer need to be explicitly stated.  Instead, we can write our class methods (functions) so that they describe exactly what's happening."
      ],
      "metadata": {
        "id": "SiTlnDrcb5px"
      }
    },
    {
      "cell_type": "markdown",
      "source": [
        "## The Simplex Class Triangle\n",
        "Before looking at the class implementation, I would recommend having a look at the modified code in the next section.  Notice how the modified code looks a LOT like the pseudocode.  Even without looking at the class code, you should be able to look at the modified code and get a good understanding what is going on.  That's the power of classes.  Now, let's discuss the class.\n",
        "<br>\n",
        "<br>\n",
        "As stated before, the algorithm revolves around a triangle whose vertices are manipulated.  So it makes sense to start by creating a class that will hold all of the information we need for each transformation.\n",
        "<br>\n",
        "<br>\n",
        "The first thing to notice is that the constructor method (`__init__`) takes as parameters two arrays, one for the $x$ values and for the $y$ values.  Then, for each $(x, y)$ combination, it evaluates the fuction (also a parameter) and stores the results in the $z$ column.\n",
        "<br>\n",
        "<br>\n",
        "The next thing you'll notice is that there are lots of helper functions.  Because the helper functions don't need to be made public, they are named with a starting underscore (`_`).  There are helper functions to calculate all of the points that can be required during the algorithm: reflection, contraction, extension, etc.  There also functions to hide the logical comparisons of the $z$ values.  I do this becuase it's easier to read a function call in an `if` statement than it is to read the actual logical expression.\n",
        "<br>\n",
        "<br>\n",
        "For example, if I were to read the following statement out loud:\n",
        "$$if\\text{ }f(B) < f(R)$$\n",
        "it would sound something like this, \"if f-of-B is less-than f-of-R\".  Therefore, I created a helper function to match this logic and I named it `is_f_of_B_lt_f_of_R`.  You get the idea, hopefully.  I start these functions with the word `is` because I want them to read like a question with a Yes or No answer.\n",
        "<br>\n",
        "<br>\n",
        "The functions that are public do not begin with and underscore and have descriptive names.  For example, take a look at the `calc_contraction_point()` function on lines 69 to 74.  The name of the function tells you what is happening without you having to figure out what all is going on here\n",
        "```\n",
        "C1 = (self._vertices.loc['Worst'] + self._mid_B_to_G) / 2\n",
        "C2 = (self._mid_B_to_G + self._Reflection) / 2\n",
        "C1['z'] = func(C1['x'], C1['y'])\n",
        "C2['z'] = func(C2['x'], C2['y'])\n",
        "self._Contraction = C1 if C1['z'] < C2['z'] else C2\n",
        "```\n",
        "Plus, you just replaced five lines of code with one.\n",
        "<br>\n",
        "<br>\n",
        "One final note about my naming convention, just as with the functions that don't need to be public, I named the private data members with a starting underscore (e.g. `_Reflection`).\n",
        "Everything I just described is an example of **Encapsulation** and **Abstraction**."
      ],
      "metadata": {
        "id": "zqk9d4n0cfTP"
      }
    },
    {
      "cell_type": "code",
      "source": [
        "from numpy import float64\n",
        "import pandas as pd\n",
        "\n",
        "class SimplexTriangle:\n",
        "    def __init__(self, x_array, y_array, func):\n",
        "        # Note that the z values default to zero.\n",
        "        # Also vertices is prepended with a single underscore to imply private.\n",
        "        self._vertices = pd.DataFrame({'x': x_array, \n",
        "                                      'y': y_array, \n",
        "                                      'z': [0.0, 0.0, 0.0]})\n",
        "        self._vertices.index = ['Best', 'Good', 'Worst']\n",
        "        self.func = func\n",
        "        # Now we can begin to fill in the z values.\n",
        "        self._vertices.at['Best','z'] = func(self._vertices.at['Best', 'x'], \n",
        "                                            self._vertices.at['Best', 'y'])\n",
        "        self._vertices.at['Good','z'] = func(self._vertices.at['Good', 'x'], \n",
        "                                            self._vertices.at['Good', 'y'])\n",
        "        self._vertices.at['Worst','z'] = func(self._vertices.at['Worst', 'x'], \n",
        "                                            self._vertices.at['Worst', 'y'])\n",
        "        # The Best vertex will have the least value of z so we reorder.\n",
        "        self.sort_and_rename_vertices()\n",
        "        self.print_vertices()\n",
        "        self._mid_B_to_G = []\n",
        "        self._Reflection = []\n",
        "        self._Contraction = []\n",
        "        self._Extension = []\n",
        "\n",
        "    def sort_and_rename_vertices(self):\n",
        "        self._vertices = self._vertices.sort_values(by='z')\n",
        "        self._vertices.index = ['Best', 'Good', 'Worst']\n",
        "\n",
        "    def print_vertices(self):\n",
        "        print(self._vertices)\n",
        "\n",
        "    def _calc_mid_B_to_G(self):\n",
        "        self._mid_B_to_G = (self._vertices.loc['Best'] + \n",
        "                           self._vertices.loc['Good']) / 2\n",
        "\n",
        "    def calc_reflection_point(self):\n",
        "        self._calc_mid_B_to_G()\n",
        "        self._Reflection = 2 * self._mid_B_to_G - self._vertices.loc['Worst']\n",
        "        self._Reflection['z'] = func(self._Reflection['x'], self._Reflection['y'])\n",
        "\n",
        "    def get_Reflection(self):\n",
        "        return self._Reflection\n",
        "\n",
        "    def is_f_of_R_lt_f_of_G(self):\n",
        "        return True if self._Reflection['z'] < self._vertices.at['Good', 'z'] else False\n",
        "\n",
        "    def is_f_of_B_lt_f_of_R(self):\n",
        "        return True if self._vertices.at['Best','z'] < self._Reflection['z'] else False\n",
        "\n",
        "    def replace_W_with_R(self):\n",
        "        self._vertices.loc['Worst'] = self._Reflection\n",
        "\n",
        "    def calc_extension_point(self):\n",
        "        self._Extension = 2 * self._Reflection - self._mid_B_to_G\n",
        "        self._Extension['z'] = func(self._Extension['x'], self._Extension['y'])\n",
        "\n",
        "    def is_f_of_E_lt_f_of_B(self):\n",
        "        return True if self._Extension['z'] < self._vertices.at['Best','z'] else False\n",
        "\n",
        "    def replace_W_with_E(self):\n",
        "        self._vertices.loc['Worst'] = self._Extension\n",
        "        \n",
        "    def is_f_of_R_lt_f_of_W(self):\n",
        "        return True if self._Reflection['z'] < self._vertices.at['Worst', 'z'] else False\n",
        "\n",
        "    def calc_contraction_point(self):\n",
        "        C1 = (self._vertices.loc['Worst'] + self._mid_B_to_G) / 2\n",
        "        C2 = (self._mid_B_to_G + self._Reflection) / 2\n",
        "        C1['z'] = func(C1['x'], C1['y'])\n",
        "        C2['z'] = func(C2['x'], C2['y'])\n",
        "        self._Contraction = C1 if C1['z'] < C2['z'] else C2\n",
        "\n",
        "    def is_f_of_C_lt_f_of_W(self):\n",
        "        return True if self._Contraction['z'] < self._vertices.at['Worst', 'z'] else False\n",
        "\n",
        "    def replace_W_with_C(self):\n",
        "        self._vertices.loc['Worst'] = self._Contraction\n",
        "\n",
        "    def calc_shrink_point(self):\n",
        "        self._Shrinkpoint = (self._vertices.loc['Best'] + \n",
        "                             self._vertices.loc['Worst']) / 2\n",
        "        self._Shrinkpoint['z'] = func(self._Shrinkpoint['x'], self._Shrinkpoint['y'])\n",
        "\n",
        "    def replace_W_with_S(self):\n",
        "        self._vertices.loc['Worst'] = self._Shrinkpoint\n",
        "\n",
        "    def replace_G_with_M(self):\n",
        "        self._vertices.loc['Good'] = self._mid_B_to_G\n",
        "\n",
        "    def _is_a_close_to_b(self, a, b, tolerance=0.0001):\n",
        "        return True if abs(a - b) < tolerance else False\n",
        "\n",
        "    def are_points_converged(self):\n",
        "        best_z = self._vertices.at['Best', 'z']\n",
        "        good_z = self._vertices.at['Good', 'z']\n",
        "        worst_z = self._vertices.at['Worst', 'z']\n",
        "\n",
        "        if (self._is_a_close_to_b(best_z, good_z) and\n",
        "            self._is_a_close_to_b(good_z, worst_z) and\n",
        "            self._is_a_close_to_b(worst_z, best_z)):\n",
        "            return True\n",
        "        else:\n",
        "            return False\n",
        "\n",
        "def func(x,y):\n",
        "    return x**2 - 4*x + y**2 - y - (x*y)"
      ],
      "metadata": {
        "id": "g3hc7TOEdQB_"
      },
      "execution_count": null,
      "outputs": []
    },
    {
      "cell_type": "markdown",
      "source": [
        "## The improved code\n",
        "If we re-write the code using the class methods it will like the next block.  Notice how much the actual code resembles the pseudocode.  The function names reflect what is really going on in each step.  Even the conditions in each `if` statement describe what is being tested if you read the function name from left to right."
      ],
      "metadata": {
        "id": "I0JxQdmQQM0t"
      }
    },
    {
      "cell_type": "code",
      "source": [
        "x_array = [0.0, 1.2, 0.0]\n",
        "y_array = [0, 0, 0.8]\n",
        "triangle = SimplexTriangle(x_array, y_array, func)\n",
        "\n",
        "while(triangle.are_points_converged() == False):\n",
        "    triangle.calc_reflection_point()\n",
        "\n",
        "    if triangle.is_f_of_R_lt_f_of_G():\n",
        "        print('Case 1 >>>>')\n",
        "        if triangle.is_f_of_B_lt_f_of_R():\n",
        "            triangle.replace_W_with_R()\n",
        "        else:\n",
        "            triangle.calc_extension_point()\n",
        "            \n",
        "            if triangle.is_f_of_E_lt_f_of_B():\n",
        "                triangle.replace_W_with_E()\n",
        "            else:\n",
        "                triangle.replace_W_with_R()\n",
        "    else:\n",
        "        print('Case 2 >>>>')\n",
        "        if triangle.is_f_of_R_lt_f_of_W():\n",
        "            triangle.replace_W_with_R()\n",
        "        else:\n",
        "            triangle.calc_contraction_point()\n",
        "            \n",
        "            if triangle.is_f_of_C_lt_f_of_W():\n",
        "                triangle.replace_W_with_C()\n",
        "            else:\n",
        "                triangle.calc_shrink_point()\n",
        "                triangle.replace_W_with_S()\n",
        "                triangle.replace_G_with_M()\n",
        "                \n",
        "    triangle.sort_and_rename_vertices()\n",
        "    triangle.print_vertices()"
      ],
      "metadata": {
        "id": "VKvZqFKH_5oO"
      },
      "execution_count": null,
      "outputs": []
    },
    {
      "cell_type": "markdown",
      "source": [
        "# Conclusion\n",
        "Classes can make your code much easier to read--not to mention, easier to maintain.  Notice how much shorter and easier to understand the implementation is when using a class.  Yes, it requires more effort up front but the time you save after the fact (perhaps in debgugging?) will more than make up for the time it took to create all the extra code."
      ],
      "metadata": {
        "id": "c7ErgJ3j3WCY"
      }
    }
  ]
}